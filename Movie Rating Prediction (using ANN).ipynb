{
 "cells": [
  {
   "cell_type": "code",
   "execution_count": 5,
   "metadata": {},
   "outputs": [],
   "source": [
    "import numpy as np\n",
    "import pandas as pd\n",
    "import matplotlib.pyplot as plt\n",
    "from sklearn.utils import shuffle\n",
    "from sklearn.preprocessing import LabelEncoder\n",
    "from sklearn.feature_extraction.text import CountVectorizer, TfidfTransformer\n",
    "from nltk.corpus import stopwords\n",
    "from nltk.stem import PorterStemmer\n",
    "import re"
   ]
  },
  {
   "cell_type": "code",
   "execution_count": 6,
   "metadata": {},
   "outputs": [],
   "source": [
    "dataset = pd.read_csv(\"movie_data/train.txt\", sep = 'delimiter', header = None, engine = 'python')"
   ]
  },
  {
   "cell_type": "code",
   "execution_count": 7,
   "metadata": {},
   "outputs": [],
   "source": [
    "dataset.columns = [\"review\"]"
   ]
  },
  {
   "cell_type": "code",
   "execution_count": 8,
   "metadata": {},
   "outputs": [],
   "source": [
    "labels = []\n",
    "for i in range(25000):\n",
    "    if i < 12500:\n",
    "        labels.append(\"pos\")\n",
    "    else:\n",
    "        labels.append(\"neg\")"
   ]
  },
  {
   "cell_type": "code",
   "execution_count": 9,
   "metadata": {},
   "outputs": [],
   "source": [
    "dataset = dataset.assign(label=labels)"
   ]
  },
  {
   "cell_type": "code",
   "execution_count": 10,
   "metadata": {},
   "outputs": [],
   "source": [
    "dataset = shuffle(dataset)"
   ]
  },
  {
   "cell_type": "code",
   "execution_count": 11,
   "metadata": {},
   "outputs": [
    {
     "data": {
      "text/html": [
       "<div>\n",
       "<style scoped>\n",
       "    .dataframe tbody tr th:only-of-type {\n",
       "        vertical-align: middle;\n",
       "    }\n",
       "\n",
       "    .dataframe tbody tr th {\n",
       "        vertical-align: top;\n",
       "    }\n",
       "\n",
       "    .dataframe thead th {\n",
       "        text-align: right;\n",
       "    }\n",
       "</style>\n",
       "<table border=\"1\" class=\"dataframe\">\n",
       "  <thead>\n",
       "    <tr style=\"text-align: right;\">\n",
       "      <th></th>\n",
       "      <th>review</th>\n",
       "      <th>label</th>\n",
       "    </tr>\n",
       "  </thead>\n",
       "  <tbody>\n",
       "    <tr>\n",
       "      <th>8083</th>\n",
       "      <td>When this film was made, the hippie thing had ...</td>\n",
       "      <td>pos</td>\n",
       "    </tr>\n",
       "    <tr>\n",
       "      <th>12522</th>\n",
       "      <td>I rented this on DVD and I kind of feel bad si...</td>\n",
       "      <td>neg</td>\n",
       "    </tr>\n",
       "    <tr>\n",
       "      <th>22777</th>\n",
       "      <td>This is really a new low in entertainment. Eve...</td>\n",
       "      <td>neg</td>\n",
       "    </tr>\n",
       "    <tr>\n",
       "      <th>3132</th>\n",
       "      <td>\"Gespenster\" Question of to be cool in the Ger...</td>\n",
       "      <td>pos</td>\n",
       "    </tr>\n",
       "    <tr>\n",
       "      <th>17934</th>\n",
       "      <td>Recap: According to legend, the Valkyrie Brunh...</td>\n",
       "      <td>neg</td>\n",
       "    </tr>\n",
       "  </tbody>\n",
       "</table>\n",
       "</div>"
      ],
      "text/plain": [
       "                                                  review label\n",
       "8083   When this film was made, the hippie thing had ...   pos\n",
       "12522  I rented this on DVD and I kind of feel bad si...   neg\n",
       "22777  This is really a new low in entertainment. Eve...   neg\n",
       "3132   \"Gespenster\" Question of to be cool in the Ger...   pos\n",
       "17934  Recap: According to legend, the Valkyrie Brunh...   neg"
      ]
     },
     "execution_count": 11,
     "metadata": {},
     "output_type": "execute_result"
    }
   ],
   "source": [
    "dataset.tail()"
   ]
  },
  {
   "cell_type": "code",
   "execution_count": 12,
   "metadata": {},
   "outputs": [
    {
     "data": {
      "text/plain": [
       "pos    12500\n",
       "neg    12500\n",
       "Name: label, dtype: int64"
      ]
     },
     "execution_count": 12,
     "metadata": {},
     "output_type": "execute_result"
    }
   ],
   "source": [
    "dataset['label'].value_counts()"
   ]
  },
  {
   "cell_type": "code",
   "execution_count": 13,
   "metadata": {},
   "outputs": [],
   "source": [
    "le = LabelEncoder()"
   ]
  },
  {
   "cell_type": "code",
   "execution_count": 14,
   "metadata": {},
   "outputs": [],
   "source": [
    "y = dataset['label'].values"
   ]
  },
  {
   "cell_type": "code",
   "execution_count": 15,
   "metadata": {},
   "outputs": [],
   "source": [
    "y = le.fit_transform(y)"
   ]
  },
  {
   "cell_type": "code",
   "execution_count": 16,
   "metadata": {},
   "outputs": [
    {
     "data": {
      "text/plain": [
       "array([1, 0, 1, 1, 0, 0, 0, 1, 0, 0, 0, 0, 1, 0, 0, 0, 0, 1, 1, 1, 1, 0,\n",
       "       0, 0, 1, 0, 1, 1, 1, 1, 1, 0, 0, 1, 0, 1, 1, 1, 0, 1, 0, 0, 1, 0,\n",
       "       1, 1, 0, 0, 1, 1, 1, 1, 0, 1, 1, 0, 1, 0, 1, 0, 0, 0, 0, 1, 0, 1,\n",
       "       0, 0, 0, 1, 1, 1, 1, 1, 1, 0, 1, 1, 1, 1, 1, 1, 1, 0, 1, 0, 1, 1,\n",
       "       1, 0, 1, 1, 0, 1, 0, 1, 0, 1, 0, 1])"
      ]
     },
     "execution_count": 16,
     "metadata": {},
     "output_type": "execute_result"
    }
   ],
   "source": [
    "y[:100]"
   ]
  },
  {
   "cell_type": "code",
   "execution_count": 17,
   "metadata": {},
   "outputs": [],
   "source": [
    "sw = set(stopwords.words('english'))\n",
    "ps = PorterStemmer()"
   ]
  },
  {
   "cell_type": "code",
   "execution_count": 18,
   "metadata": {},
   "outputs": [],
   "source": [
    "def clean_text(sample):\n",
    "    sample = sample.lower()\n",
    "    sample = sample.replace(\"<br /><br />\", \"\")\n",
    "    sample = re.sub(\"[^a-zA-Z]+\", \" \", sample)\n",
    "    sample = sample.split()\n",
    "    sample = [ps.stem(s) for s in sample if s not in sw]\n",
    "    sample = \" \".join(sample)\n",
    "    return sample"
   ]
  },
  {
   "cell_type": "code",
   "execution_count": 19,
   "metadata": {},
   "outputs": [],
   "source": [
    "dataset['cleaned_review'] = dataset['review'].apply(clean_text)"
   ]
  },
  {
   "cell_type": "code",
   "execution_count": 20,
   "metadata": {},
   "outputs": [
    {
     "data": {
      "text/html": [
       "<div>\n",
       "<style scoped>\n",
       "    .dataframe tbody tr th:only-of-type {\n",
       "        vertical-align: middle;\n",
       "    }\n",
       "\n",
       "    .dataframe tbody tr th {\n",
       "        vertical-align: top;\n",
       "    }\n",
       "\n",
       "    .dataframe thead th {\n",
       "        text-align: right;\n",
       "    }\n",
       "</style>\n",
       "<table border=\"1\" class=\"dataframe\">\n",
       "  <thead>\n",
       "    <tr style=\"text-align: right;\">\n",
       "      <th></th>\n",
       "      <th>review</th>\n",
       "      <th>label</th>\n",
       "      <th>cleaned_review</th>\n",
       "    </tr>\n",
       "  </thead>\n",
       "  <tbody>\n",
       "    <tr>\n",
       "      <th>103</th>\n",
       "      <td>A beautiful shopgirl in London is swept off he...</td>\n",
       "      <td>pos</td>\n",
       "      <td>beauti shopgirl london swept feet millionair t...</td>\n",
       "    </tr>\n",
       "    <tr>\n",
       "      <th>23119</th>\n",
       "      <td>Entertainment Tonight has been going down hill...</td>\n",
       "      <td>neg</td>\n",
       "      <td>entertain tonight go hill last year last night...</td>\n",
       "    </tr>\n",
       "    <tr>\n",
       "      <th>10144</th>\n",
       "      <td>What fun! Bucketfuls of good humor, terrific c...</td>\n",
       "      <td>pos</td>\n",
       "      <td>fun bucket good humor terrif cast chemistri sk...</td>\n",
       "    </tr>\n",
       "    <tr>\n",
       "      <th>233</th>\n",
       "      <td>\"Stargate SG-1\" follows the intergalactic expl...</td>\n",
       "      <td>pos</td>\n",
       "      <td>stargat sg follow intergalact explor team name...</td>\n",
       "    </tr>\n",
       "    <tr>\n",
       "      <th>17599</th>\n",
       "      <td>I remember when THE GOLDEN CHILD was released ...</td>\n",
       "      <td>neg</td>\n",
       "      <td>rememb golden child releas univers pan critic ...</td>\n",
       "    </tr>\n",
       "    <tr>\n",
       "      <th>...</th>\n",
       "      <td>...</td>\n",
       "      <td>...</td>\n",
       "      <td>...</td>\n",
       "    </tr>\n",
       "    <tr>\n",
       "      <th>8083</th>\n",
       "      <td>When this film was made, the hippie thing had ...</td>\n",
       "      <td>pos</td>\n",
       "      <td>film made hippi thing gone mainstream idea cou...</td>\n",
       "    </tr>\n",
       "    <tr>\n",
       "      <th>12522</th>\n",
       "      <td>I rented this on DVD and I kind of feel bad si...</td>\n",
       "      <td>neg</td>\n",
       "      <td>rent dvd kind feel bad sinc dawson lugaci earn...</td>\n",
       "    </tr>\n",
       "    <tr>\n",
       "      <th>22777</th>\n",
       "      <td>This is really a new low in entertainment. Eve...</td>\n",
       "      <td>neg</td>\n",
       "      <td>realli new low entertain even though lot wors ...</td>\n",
       "    </tr>\n",
       "    <tr>\n",
       "      <th>3132</th>\n",
       "      <td>\"Gespenster\" Question of to be cool in the Ger...</td>\n",
       "      <td>pos</td>\n",
       "      <td>gespenst question cool german cinemather mani ...</td>\n",
       "    </tr>\n",
       "    <tr>\n",
       "      <th>17934</th>\n",
       "      <td>Recap: According to legend, the Valkyrie Brunh...</td>\n",
       "      <td>neg</td>\n",
       "      <td>recap accord legend valkyri brunhilda defi odi...</td>\n",
       "    </tr>\n",
       "  </tbody>\n",
       "</table>\n",
       "<p>25000 rows × 3 columns</p>\n",
       "</div>"
      ],
      "text/plain": [
       "                                                  review label  \\\n",
       "103    A beautiful shopgirl in London is swept off he...   pos   \n",
       "23119  Entertainment Tonight has been going down hill...   neg   \n",
       "10144  What fun! Bucketfuls of good humor, terrific c...   pos   \n",
       "233    \"Stargate SG-1\" follows the intergalactic expl...   pos   \n",
       "17599  I remember when THE GOLDEN CHILD was released ...   neg   \n",
       "...                                                  ...   ...   \n",
       "8083   When this film was made, the hippie thing had ...   pos   \n",
       "12522  I rented this on DVD and I kind of feel bad si...   neg   \n",
       "22777  This is really a new low in entertainment. Eve...   neg   \n",
       "3132   \"Gespenster\" Question of to be cool in the Ger...   pos   \n",
       "17934  Recap: According to legend, the Valkyrie Brunh...   neg   \n",
       "\n",
       "                                          cleaned_review  \n",
       "103    beauti shopgirl london swept feet millionair t...  \n",
       "23119  entertain tonight go hill last year last night...  \n",
       "10144  fun bucket good humor terrif cast chemistri sk...  \n",
       "233    stargat sg follow intergalact explor team name...  \n",
       "17599  rememb golden child releas univers pan critic ...  \n",
       "...                                                  ...  \n",
       "8083   film made hippi thing gone mainstream idea cou...  \n",
       "12522  rent dvd kind feel bad sinc dawson lugaci earn...  \n",
       "22777  realli new low entertain even though lot wors ...  \n",
       "3132   gespenst question cool german cinemather mani ...  \n",
       "17934  recap accord legend valkyri brunhilda defi odi...  \n",
       "\n",
       "[25000 rows x 3 columns]"
      ]
     },
     "execution_count": 20,
     "metadata": {},
     "output_type": "execute_result"
    }
   ],
   "source": [
    "dataset"
   ]
  },
  {
   "cell_type": "code",
   "execution_count": 21,
   "metadata": {},
   "outputs": [],
   "source": [
    "corpus = dataset['cleaned_review'].values"
   ]
  },
  {
   "cell_type": "code",
   "execution_count": 22,
   "metadata": {},
   "outputs": [],
   "source": [
    "cv = CountVectorizer(max_df = 0.5, max_features = 50000)"
   ]
  },
  {
   "cell_type": "code",
   "execution_count": 23,
   "metadata": {},
   "outputs": [],
   "source": [
    "X = cv.fit_transform(corpus)"
   ]
  },
  {
   "cell_type": "code",
   "execution_count": 24,
   "metadata": {},
   "outputs": [
    {
     "name": "stdout",
     "output_type": "stream",
     "text": [
      "  (0, 3696)\t1\n",
      "  (0, 39343)\t1\n",
      "  (0, 25698)\t1\n",
      "  (0, 42733)\t1\n",
      "  (0, 14825)\t1\n",
      "  (0, 28344)\t1\n",
      "  (0, 43313)\t1\n",
      "  (0, 33243)\t1\n",
      "  (0, 31756)\t1\n",
      "  (0, 40621)\t1\n",
      "  (0, 15169)\t1\n",
      "  (0, 27040)\t1\n",
      "  (0, 25516)\t1\n",
      "  (0, 47407)\t1\n",
      "  (0, 5685)\t1\n",
      "  (0, 7247)\t1\n",
      "  (0, 1166)\t1\n",
      "  (0, 3464)\t1\n",
      "  (0, 46671)\t1\n",
      "  (0, 5115)\t1\n",
      "  (0, 36651)\t1\n",
      "  (0, 41347)\t1\n",
      "  (0, 21498)\t1\n",
      "  (0, 38765)\t1\n",
      "  (0, 19744)\t1\n",
      "  :\t:\n",
      "  (0, 43895)\t1\n",
      "  (0, 10773)\t1\n",
      "  (0, 35311)\t1\n",
      "  (0, 27135)\t1\n",
      "  (0, 14821)\t1\n",
      "  (0, 18769)\t1\n",
      "  (0, 13455)\t1\n",
      "  (0, 48223)\t1\n",
      "  (0, 31140)\t1\n",
      "  (0, 19203)\t1\n",
      "  (0, 25828)\t1\n",
      "  (0, 40392)\t1\n",
      "  (0, 5931)\t1\n",
      "  (0, 36811)\t1\n",
      "  (0, 12270)\t1\n",
      "  (0, 4479)\t1\n",
      "  (0, 44867)\t1\n",
      "  (0, 21739)\t1\n",
      "  (0, 10366)\t1\n",
      "  (0, 13181)\t1\n",
      "  (0, 41336)\t1\n",
      "  (0, 32577)\t1\n",
      "  (0, 44186)\t1\n",
      "  (0, 31569)\t1\n",
      "  (0, 7821)\t1\n"
     ]
    }
   ],
   "source": [
    "print(X[0])"
   ]
  },
  {
   "cell_type": "code",
   "execution_count": 25,
   "metadata": {},
   "outputs": [],
   "source": [
    "tfidf = TfidfTransformer()"
   ]
  },
  {
   "cell_type": "code",
   "execution_count": 26,
   "metadata": {},
   "outputs": [],
   "source": [
    "X = tfidf.fit_transform(X)"
   ]
  },
  {
   "cell_type": "code",
   "execution_count": 27,
   "metadata": {
    "scrolled": true
   },
   "outputs": [
    {
     "name": "stdout",
     "output_type": "stream",
     "text": [
      "  (0, 48223)\t0.038027042241216155\n",
      "  (0, 47916)\t0.12082172846358033\n",
      "  (0, 47568)\t0.15335123672051248\n",
      "  (0, 47407)\t0.13484793699277614\n",
      "  (0, 46671)\t0.0774599197096899\n",
      "  (0, 44867)\t0.14630477596474223\n",
      "  (0, 44186)\t0.032708863203220806\n",
      "  (0, 44058)\t0.10411364206097146\n",
      "  (0, 43895)\t0.04093478876641233\n",
      "  (0, 43313)\t0.10918147131875612\n",
      "  (0, 43285)\t0.20436136788319845\n",
      "  (0, 42733)\t0.12029506056629785\n",
      "  (0, 42167)\t0.1157554720109517\n",
      "  (0, 41974)\t0.07401065720692908\n",
      "  (0, 41665)\t0.09467111866598525\n",
      "  (0, 41429)\t0.05222117759424898\n",
      "  (0, 41347)\t0.17427473160834936\n",
      "  (0, 41336)\t0.15169486869232346\n",
      "  (0, 41278)\t0.1133352768508512\n",
      "  (0, 40621)\t0.07211104366208108\n",
      "  (0, 40392)\t0.09812075906052549\n",
      "  (0, 40241)\t0.10973763751941482\n",
      "  (0, 39343)\t0.16927518813806544\n",
      "  (0, 38765)\t0.052205700041889035\n",
      "  (0, 36811)\t0.07941884333599832\n",
      "  :\t:\n",
      "  (0, 14677)\t0.08465032728223804\n",
      "  (0, 13455)\t0.04015453969339398\n",
      "  (0, 13221)\t0.10877572423752613\n",
      "  (0, 13181)\t0.11368637385383977\n",
      "  (0, 12375)\t0.09176362931486587\n",
      "  (0, 12270)\t0.06892092821739058\n",
      "  (0, 11956)\t0.0979765365684189\n",
      "  (0, 10773)\t0.10663991309806951\n",
      "  (0, 10717)\t0.11699733666287597\n",
      "  (0, 10366)\t0.07616414399542941\n",
      "  (0, 9689)\t0.17427473160834936\n",
      "  (0, 8177)\t0.11833482032113513\n",
      "  (0, 7821)\t0.1595497873350339\n",
      "  (0, 7702)\t0.10137638413831557\n",
      "  (0, 7247)\t0.15169486869232346\n",
      "  (0, 5931)\t0.10199870625202423\n",
      "  (0, 5685)\t0.08022730122293849\n",
      "  (0, 5115)\t0.06411813976937523\n",
      "  (0, 4479)\t0.055544188036737815\n",
      "  (0, 3696)\t0.057017178896624075\n",
      "  (0, 3464)\t0.06654139387808357\n",
      "  (0, 3379)\t0.13368892689855144\n",
      "  (0, 1166)\t0.05967232878197793\n",
      "  (0, 1098)\t0.05633034207483066\n",
      "  (0, 741)\t0.13608980164470044\n"
     ]
    }
   ],
   "source": [
    "print(X[0])"
   ]
  },
  {
   "cell_type": "code",
   "execution_count": 28,
   "metadata": {},
   "outputs": [
    {
     "data": {
      "text/plain": [
       "(25000, 50000)"
      ]
     },
     "execution_count": 28,
     "metadata": {},
     "output_type": "execute_result"
    }
   ],
   "source": [
    "X.shape"
   ]
  },
  {
   "cell_type": "code",
   "execution_count": 29,
   "metadata": {},
   "outputs": [
    {
     "data": {
      "text/plain": [
       "(25000,)"
      ]
     },
     "execution_count": 29,
     "metadata": {},
     "output_type": "execute_result"
    }
   ],
   "source": [
    "y.shape"
   ]
  },
  {
   "cell_type": "markdown",
   "metadata": {},
   "source": [
    "## Neural Network"
   ]
  },
  {
   "cell_type": "code",
   "execution_count": 60,
   "metadata": {},
   "outputs": [],
   "source": [
    "from keras import models\n",
    "from keras.layers import Dense"
   ]
  },
  {
   "cell_type": "code",
   "execution_count": 61,
   "metadata": {},
   "outputs": [],
   "source": [
    "model = models.Sequential()\n",
    "model.add( Dense(16, activation = \"relu\", input_shape = (X.shape[1],) ) )\n",
    "model.add( Dense(16, activation = \"relu\") )\n",
    "model.add( Dense(1, activation = \"sigmoid\") )"
   ]
  },
  {
   "cell_type": "code",
   "execution_count": 62,
   "metadata": {},
   "outputs": [
    {
     "name": "stdout",
     "output_type": "stream",
     "text": [
      "Model: \"sequential_5\"\n",
      "_________________________________________________________________\n",
      "Layer (type)                 Output Shape              Param #   \n",
      "=================================================================\n",
      "dense_5 (Dense)              (None, 16)                800016    \n",
      "_________________________________________________________________\n",
      "dense_6 (Dense)              (None, 16)                272       \n",
      "_________________________________________________________________\n",
      "dense_7 (Dense)              (None, 1)                 17        \n",
      "=================================================================\n",
      "Total params: 800,305\n",
      "Trainable params: 800,305\n",
      "Non-trainable params: 0\n",
      "_________________________________________________________________\n"
     ]
    }
   ],
   "source": [
    "model.summary()"
   ]
  },
  {
   "cell_type": "code",
   "execution_count": 63,
   "metadata": {},
   "outputs": [],
   "source": [
    "model.compile(optimizer = 'rmsprop', loss = \"binary_crossentropy\", metrics = ['accuracy'])"
   ]
  },
  {
   "cell_type": "code",
   "execution_count": 64,
   "metadata": {},
   "outputs": [],
   "source": [
    "X_val = X[:2500]\n",
    "X_train = X[2500:]\n",
    "\n",
    "y_val= y[:2500]\n",
    "y_train = y[2500:]"
   ]
  },
  {
   "cell_type": "code",
   "execution_count": 65,
   "metadata": {},
   "outputs": [
    {
     "data": {
      "text/plain": [
       "((22500, 50000), (22500,))"
      ]
     },
     "execution_count": 65,
     "metadata": {},
     "output_type": "execute_result"
    }
   ],
   "source": [
    "X_train.shape, y_train.shape"
   ]
  },
  {
   "cell_type": "code",
   "execution_count": 66,
   "metadata": {},
   "outputs": [
    {
     "name": "stdout",
     "output_type": "stream",
     "text": [
      "Train on 22500 samples, validate on 2500 samples\n",
      "Epoch 1/4\n",
      "22500/22500 [==============================] - 10s 458us/step - loss: 0.5182 - accuracy: 0.8413 - val_loss: 0.3361 - val_accuracy: 0.8892\n",
      "Epoch 2/4\n",
      "22500/22500 [==============================] - 10s 460us/step - loss: 0.2420 - accuracy: 0.9162 - val_loss: 0.2474 - val_accuracy: 0.9004\n",
      "Epoch 3/4\n",
      "22500/22500 [==============================] - 11s 507us/step - loss: 0.1659 - accuracy: 0.9398 - val_loss: 0.2537 - val_accuracy: 0.9020\n",
      "Epoch 4/4\n",
      "22500/22500 [==============================] - 11s 496us/step - loss: 0.1307 - accuracy: 0.9545 - val_loss: 0.2602 - val_accuracy: 0.9024\n"
     ]
    }
   ],
   "source": [
    "hist = model.fit(X_train, y_train, batch_size = 128, epochs = 4, validation_data = (X_val, y_val))"
   ]
  },
  {
   "cell_type": "code",
   "execution_count": 67,
   "metadata": {},
   "outputs": [],
   "source": [
    "result = hist.history"
   ]
  },
  {
   "cell_type": "code",
   "execution_count": 68,
   "metadata": {},
   "outputs": [
    {
     "data": {
      "text/plain": [
       "{'val_loss': [0.33609167108535765,\n",
       "  0.24737935192584992,\n",
       "  0.2536694974899292,\n",
       "  0.2602121132850647],\n",
       " 'val_accuracy': [0.88919997215271,\n",
       "  0.9003999829292297,\n",
       "  0.9020000100135803,\n",
       "  0.902400016784668],\n",
       " 'loss': [0.5181940309842428,\n",
       "  0.24203760081397163,\n",
       "  0.1658658574157291,\n",
       "  0.13074217501481375],\n",
       " 'accuracy': [0.8413333, 0.91617775, 0.9397778, 0.95453334]}"
      ]
     },
     "execution_count": 68,
     "metadata": {},
     "output_type": "execute_result"
    }
   ],
   "source": [
    "result"
   ]
  },
  {
   "cell_type": "code",
   "execution_count": 69,
   "metadata": {},
   "outputs": [
    {
     "data": {
      "image/png": "[encoded data removed]",
      "text/plain": [
       "<Figure size 432x288 with 1 Axes>"
      ]
     },
     "metadata": {
      "needs_background": "light"
     },
     "output_type": "display_data"
    }
   ],
   "source": [
    "plt.plot(result['val_accuracy'], label = \"Val acc\")\n",
    "plt.plot(result['accuracy'], label = \"Train acc\")\n",
    "plt.legend()\n",
    "plt.show()"
   ]
  },
  {
   "cell_type": "code",
   "execution_count": 70,
   "metadata": {},
   "outputs": [
    {
     "data": {
      "image/png": "[encoded data removed]",
      "text/plain": [
       "<Figure size 432x288 with 1 Axes>"
      ]
     },
     "metadata": {
      "needs_background": "light"
     },
     "output_type": "display_data"
    }
   ],
   "source": [
    "plt.plot(result['val_loss'], label = \"Val loss\")\n",
    "plt.plot(result['loss'], label = \"Train loss\")\n",
    "plt.legend()\n",
    "plt.show()"
   ]
  },
  {
   "cell_type": "markdown",
   "metadata": {},
   "source": [
    "## Test"
   ]
  },
  {
   "cell_type": "code",
   "execution_count": 71,
   "metadata": {},
   "outputs": [],
   "source": [
    "test = pd.read_csv(\"movie_data/test.txt\", sep = 'delimiter', header = None, engine = 'python')"
   ]
  },
  {
   "cell_type": "code",
   "execution_count": 73,
   "metadata": {},
   "outputs": [],
   "source": [
    "test.columns = [\"review\"]"
   ]
  },
  {
   "cell_type": "code",
   "execution_count": 74,
   "metadata": {},
   "outputs": [
    {
     "data": {
      "text/html": [
       "<div>\n",
       "<style scoped>\n",
       "    .dataframe tbody tr th:only-of-type {\n",
       "        vertical-align: middle;\n",
       "    }\n",
       "\n",
       "    .dataframe tbody tr th {\n",
       "        vertical-align: top;\n",
       "    }\n",
       "\n",
       "    .dataframe thead th {\n",
       "        text-align: right;\n",
       "    }\n",
       "</style>\n",
       "<table border=\"1\" class=\"dataframe\">\n",
       "  <thead>\n",
       "    <tr style=\"text-align: right;\">\n",
       "      <th></th>\n",
       "      <th>review</th>\n",
       "    </tr>\n",
       "  </thead>\n",
       "  <tbody>\n",
       "    <tr>\n",
       "      <th>0</th>\n",
       "      <td>I went and saw this movie last night after bei...</td>\n",
       "    </tr>\n",
       "    <tr>\n",
       "      <th>1</th>\n",
       "      <td>Actor turned director Bill Paxton follows up h...</td>\n",
       "    </tr>\n",
       "    <tr>\n",
       "      <th>2</th>\n",
       "      <td>As a recreational golfer with some knowledge o...</td>\n",
       "    </tr>\n",
       "    <tr>\n",
       "      <th>3</th>\n",
       "      <td>I saw this film in a sneak preview, and it is ...</td>\n",
       "    </tr>\n",
       "    <tr>\n",
       "      <th>4</th>\n",
       "      <td>Bill Paxton has taken the true story of the 19...</td>\n",
       "    </tr>\n",
       "  </tbody>\n",
       "</table>\n",
       "</div>"
      ],
      "text/plain": [
       "                                              review\n",
       "0  I went and saw this movie last night after bei...\n",
       "1  Actor turned director Bill Paxton follows up h...\n",
       "2  As a recreational golfer with some knowledge o...\n",
       "3  I saw this film in a sneak preview, and it is ...\n",
       "4  Bill Paxton has taken the true story of the 19..."
      ]
     },
     "execution_count": 74,
     "metadata": {},
     "output_type": "execute_result"
    }
   ],
   "source": [
    "test.head()"
   ]
  },
  {
   "cell_type": "code",
   "execution_count": 76,
   "metadata": {},
   "outputs": [],
   "source": [
    "test['cleaned_review'] = test['review'].apply(clean_text)"
   ]
  },
  {
   "cell_type": "code",
   "execution_count": 78,
   "metadata": {},
   "outputs": [],
   "source": [
    "X_test = test['cleaned_review']"
   ]
  },
  {
   "cell_type": "code",
   "execution_count": 79,
   "metadata": {},
   "outputs": [],
   "source": [
    "X_test = cv.transform(X_test)"
   ]
  },
  {
   "cell_type": "code",
   "execution_count": 80,
   "metadata": {},
   "outputs": [
    {
     "data": {
      "text/plain": [
       "(25000, 50000)"
      ]
     },
     "execution_count": 80,
     "metadata": {},
     "output_type": "execute_result"
    }
   ],
   "source": [
    "X_test.shape"
   ]
  },
  {
   "cell_type": "code",
   "execution_count": 81,
   "metadata": {},
   "outputs": [],
   "source": [
    "X_test = tfidf.transform(X_test)"
   ]
  },
  {
   "cell_type": "code",
   "execution_count": 83,
   "metadata": {},
   "outputs": [],
   "source": [
    "y_pred = model.predict(X_test)"
   ]
  },
  {
   "cell_type": "code",
   "execution_count": 84,
   "metadata": {},
   "outputs": [],
   "source": [
    "y_pred [y_pred >= 0.5] = 1"
   ]
  },
  {
   "cell_type": "code",
   "execution_count": 85,
   "metadata": {},
   "outputs": [],
   "source": [
    "y_pred = y_pred.astype('int')"
   ]
  },
  {
   "cell_type": "code",
   "execution_count": 86,
   "metadata": {},
   "outputs": [
    {
     "data": {
      "text/plain": [
       "array([[1],\n",
       "       [1],\n",
       "       [1],\n",
       "       [1],\n",
       "       [1],\n",
       "       [1],\n",
       "       [1],\n",
       "       [0],\n",
       "       [1],\n",
       "       [1],\n",
       "       [1],\n",
       "       [1],\n",
       "       [1],\n",
       "       [1],\n",
       "       [0],\n",
       "       [1],\n",
       "       [0],\n",
       "       [0],\n",
       "       [1],\n",
       "       [1],\n",
       "       [0],\n",
       "       [1],\n",
       "       [1],\n",
       "       [1],\n",
       "       [1],\n",
       "       [1],\n",
       "       [1],\n",
       "       [0],\n",
       "       [1],\n",
       "       [1],\n",
       "       [1],\n",
       "       [1],\n",
       "       [1],\n",
       "       [1],\n",
       "       [1],\n",
       "       [1],\n",
       "       [1],\n",
       "       [1],\n",
       "       [1],\n",
       "       [1],\n",
       "       [1],\n",
       "       [1],\n",
       "       [0],\n",
       "       [1],\n",
       "       [1],\n",
       "       [1],\n",
       "       [1],\n",
       "       [1],\n",
       "       [1],\n",
       "       [1],\n",
       "       [1],\n",
       "       [1],\n",
       "       [1],\n",
       "       [1],\n",
       "       [1],\n",
       "       [1],\n",
       "       [1],\n",
       "       [1],\n",
       "       [1],\n",
       "       [1],\n",
       "       [1],\n",
       "       [1],\n",
       "       [1],\n",
       "       [0],\n",
       "       [1],\n",
       "       [1],\n",
       "       [1],\n",
       "       [1],\n",
       "       [1],\n",
       "       [0],\n",
       "       [1],\n",
       "       [1],\n",
       "       [1],\n",
       "       [0],\n",
       "       [1],\n",
       "       [1],\n",
       "       [1],\n",
       "       [1],\n",
       "       [1],\n",
       "       [1],\n",
       "       [1],\n",
       "       [0],\n",
       "       [1],\n",
       "       [1],\n",
       "       [1],\n",
       "       [1],\n",
       "       [1],\n",
       "       [1],\n",
       "       [1],\n",
       "       [1],\n",
       "       [0],\n",
       "       [1],\n",
       "       [1],\n",
       "       [1],\n",
       "       [1],\n",
       "       [1],\n",
       "       [0],\n",
       "       [1],\n",
       "       [1],\n",
       "       [0]])"
      ]
     },
     "execution_count": 86,
     "metadata": {},
     "output_type": "execute_result"
    }
   ],
   "source": [
    "y_pred[:100]"
   ]
  },
  {
   "cell_type": "code",
   "execution_count": 87,
   "metadata": {},
   "outputs": [],
   "source": [
    "dict = {0: 'neg', 1: 'pos'}"
   ]
  },
  {
   "cell_type": "code",
   "execution_count": 88,
   "metadata": {},
   "outputs": [],
   "source": [
    "y_pred = [dict[p[0]] for p in y_pred]"
   ]
  },
  {
   "cell_type": "code",
   "execution_count": 89,
   "metadata": {},
   "outputs": [],
   "source": [
    "ids = np.arange(25000)"
   ]
  },
  {
   "cell_type": "code",
   "execution_count": 90,
   "metadata": {},
   "outputs": [],
   "source": [
    "final_matrix = np.stack((ids, y_pred), axis = 1)"
   ]
  },
  {
   "cell_type": "code",
   "execution_count": 91,
   "metadata": {},
   "outputs": [],
   "source": [
    "df = pd.DataFrame(final_matrix, columns = ['Id', 'label'])"
   ]
  },
  {
   "cell_type": "code",
   "execution_count": 92,
   "metadata": {},
   "outputs": [],
   "source": [
    "df.to_csv('y_pred.csv', index = False)"
   ]
  },
  {
   "cell_type": "code",
   "execution_count": null,
   "metadata": {},
   "outputs": [],
   "source": []
  }
 ],
 "metadata": {
  "kernelspec": {
   "display_name": "Python 3",
   "language": "python",
   "name": "python3"
  },
  "language_info": {
   "codemirror_mode": {
    "name": "ipython",
    "version": 3
   },
   "file_extension": ".py",
   "mimetype": "text/x-python",
   "name": "python",
   "nbconvert_exporter": "python",
   "pygments_lexer": "ipython3",
   "version": "3.6.9"
  }
 },
 "nbformat": 4,
 "nbformat_minor": 4
}
